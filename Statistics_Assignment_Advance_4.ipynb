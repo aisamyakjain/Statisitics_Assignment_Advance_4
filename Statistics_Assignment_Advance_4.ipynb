{
 "cells": [
  {
   "cell_type": "code",
   "execution_count": 1,
   "id": "d24d1bfe-9249-44d5-a597-c2ac63a44732",
   "metadata": {},
   "outputs": [],
   "source": [
    "# Q1: What is the difference between a t-test and a z-test? Provide an example scenario where you would \n",
    "# use each type of test\n",
    "\n",
    "\n",
    "# The main difference between a t-test and a z-test lies in the information available about the population parameters. \n",
    "# Here's a comparison and example scenarios for each type of test:\n",
    "\n",
    "# t-test:\n",
    "\n",
    "# Used when the population standard deviation is unknown or when the sample size is small (typically less than 30).\n",
    "# Example scenario: Testing whether there is a significant difference in the mean heights between two groups of students, where \n",
    "# the sample sizes are small and the population standard deviations are unknown.\n",
    "# z-test:\n",
    "\n",
    "# Used when the population standard deviation is known or when the sample size is large (typically greater than or equal to 30).\n",
    "# Example scenario: Testing whether a new manufacturing process has significantly increased the mean weight of a product compared to the \n",
    "# historical average, where the population standard deviation is known and the sample size is large.\n",
    "# In summary, the choice between a t-test and a z-test depends on the sample size and the availability of information about the population \n",
    "# standard deviation. If the population standard deviation is known and the sample size is large,\n",
    "# a z-test is appropriate. However, if the population standard deviation is unknown or the sample size is small, a t-test is more suitable."
   ]
  },
  {
   "cell_type": "code",
   "execution_count": 2,
   "id": "5f988c77-1e1f-4ea1-b4ff-77c764f86cda",
   "metadata": {},
   "outputs": [],
   "source": [
    "# Q2: Differentiate between one-tailed and two-tailed tests\n",
    "\n",
    "# In a one-tailed test, the alternative hypothesis is directional, testing for a difference in one specific direction. \n",
    "# In a two-tailed test, the alternative hypothesis is non-directional, testing for a difference in either direction."
   ]
  },
  {
   "cell_type": "code",
   "execution_count": 4,
   "id": "b42fa491-30d5-4c31-b709-b7de11d136c0",
   "metadata": {},
   "outputs": [],
   "source": [
    "# 3: Explain the concept of Type 1 and Type 2 errors in hypothesis testing. Provide an example scenario for \n",
    "# each type of error\n",
    "\n",
    "# In hypothesis testing, Type 1 and Type 2 errors are potential mistakes that can occur:\n",
    "\n",
    "# 1. Type 1 error (False Positive):\n",
    "#    - Rejecting the null hypothesis when it is actually true.\n",
    "#    - Example scenario: Concluding that a person is guilty of a crime (alternative hypothesis) when, in reality, they are innocent (null hypothesis).\n",
    "\n",
    "# 2. Type 2 error (False Negative):\n",
    "#    - Failing to reject the null hypothesis when it is actually false.\n",
    "#    - Example scenario: Failing to detect a disease (alternative hypothesis) in a patient (null hypothesis) despite the patient having the disease.\n",
    "\n",
    "# Both types of errors are important to consider in hypothesis testing as they can lead to incorrect conclusionas. \n",
    "# The significance level (alpha) determines the probability of making a Type 1 error, \n",
    "# while the power of the test determines the probability of avoiding a Type 2 error. Balancing these error rates is essential in hypothesis testing."
   ]
  },
  {
   "cell_type": "code",
   "execution_count": 5,
   "id": "011cc389-a124-4b8f-8374-279bafcb35f7",
   "metadata": {},
   "outputs": [],
   "source": [
    "# Q5: What is a confidence interval? How to calculate the confidence interval, explain with an example\n",
    "\n",
    "# A confidence interval is a range of values that provides an estimated range of plausible values for a population parameter, \n",
    "# such as a mean or proportion, based on a sample. It is calculated by taking the sample statistic (e.g., mean) and adding/subtracting the margin of error. \n",
    "# For example, a 95% confidence interval for \n",
    "# the average height of students (sample mean) might be [65 inches, 67 inches], indicating that we are 95% confident the population mean falls within that range."
   ]
  },
  {
   "cell_type": "code",
   "execution_count": 6,
   "id": "b4128a04-0545-4e2f-bee4-73a9a9aabefc",
   "metadata": {},
   "outputs": [],
   "source": [
    "# Q6. Use Bayes' Theorem to calculate the probability of an event occurring given prior knowledge of the \n",
    "# event's probability and new evidence. Provide a sample problem and solution\n",
    "\n",
    "# Bayes' Theorem is used to update the probability of an event based on new evidence or information. It can be stated as:\n",
    "\n",
    "# P(A|B) = (P(B|A) * P(A)) / P(B)\n",
    "\n",
    "# where:\n",
    "\n",
    "# P(A|B) is the posterior probability of event A given evidence B.\n",
    "# P(B|A) is the likelihood of evidence B given event A.\n",
    "# P(A) is the prior probability of event A.\n",
    "# P(B) is the probability of evidence B.\n",
    "# Here's a sample problem and solution to illustrate the application of Bayes' Theorem:\n",
    "\n",
    "# Problem:\n",
    "# Suppose a certain medical test is known to correctly identify a disease 98% of the time (P(B|A)), and the occurrence of the disease in the population is 0.5% (P(A)). If a person tests positive for the disease, what is the probability that they actually have the disease (P(A|B))?\n",
    "\n",
    "# Solution:\n",
    "# Given:\n",
    "# P(B|A) = 0.98 (correctly identifying the disease)\n",
    "# P(A) = 0.005 (occurrence of the disease)\n",
    "\n",
    "# Assuming P(B) is the probability of testing positive, we need to calculate it. It can be obtained by using the law of total probability:\n",
    "# P(B) = P(B|A) * P(A) + P(B|not A) * P(not A)\n",
    "\n",
    "# Let's assume P(B|not A) is the probability of a false positive, which is 5% (0.05):\n",
    "# P(B) = 0.98 * 0.005 + 0.05 * (1 - 0.005) = 0.05915\n",
    "\n",
    "# Now, we can apply Bayes' Theorem:\n",
    "# P(A|B) = (P(B|A) * P(A)) / P(B)\n",
    "# P(A|B) = (0.98 * 0.005) / 0.05915 = 0.0831\n",
    "\n",
    "# Therefore, the probability that a person actually has the disease given a positive test result is approximately 8.31%."
   ]
  },
  {
   "cell_type": "code",
   "execution_count": 1,
   "id": "aee73e29-28c0-4bda-8ec9-5975c90db111",
   "metadata": {},
   "outputs": [],
   "source": [
    "# Q7. Calculate the 95% confidence interval for a sample of data with a mean of 50 and a standard deviation \n",
    "# of 5. Interpret the results\n",
    "\n",
    "# To calculate the 95% confidence interval for a sample with a mean of 50 and a standard deviation of 5, we can use the formula:\n",
    "\n",
    "# Confidence Interval = Mean ± (Critical Value * Standard Error)\n",
    "\n",
    "# The critical value depends on the desired confidence level and the sample size. For a 95% confidence level with a sufficiently large sample size (typically above 30), the critical value is approximately 1.96.\n",
    "\n",
    "# First, calculate the standard error:\n",
    "# Standard Error = Standard Deviation / √(Sample Size)\n",
    "# Standard Error = 5 / √(n)\n",
    "\n",
    "# Assuming a sample size of 30, let's calculate the confidence interval:\n",
    "\n",
    "# Standard Error = 5 / √(30) ≈ 0.9129\n",
    "\n",
    "# Confidence Interval = 50 ± (1.96 * 0.9129)\n",
    "# Confidence Interval ≈ (48.1882, 51.8118)\n",
    "\n",
    "# Interpretation:\n",
    "# We can be 95% confident that the true population mean falls within the range of (48.1882, 51.8118). This means that if we repeated the sampling process and calculated the confidence interval multiple times, approximately 95% of the intervals would capture the true population mean. \n",
    "# In other words, we have a high degree of certainty that the true mean value lies within this range based on the sample data."
   ]
  },
  {
   "cell_type": "code",
   "execution_count": 2,
   "id": "d0d506a4-1ea5-49d8-a4b2-3e21d0f0a50d",
   "metadata": {},
   "outputs": [],
   "source": [
    "# Q8. What is the margin of error in a confidence interval? How does sample size affect the margin of error? \n",
    "# Provide an example of a scenario where a larger sample size would result in a smaller margin of error.\n",
    "\n",
    "# The margin of error in a confidence interval is the measure of uncertainty. A larger sample size reduces the margin of error, providing a more precise estimate."
   ]
  },
  {
   "cell_type": "code",
   "execution_count": 4,
   "id": "1d899622-fc85-45cb-aa9d-f7ff751ddd72",
   "metadata": {},
   "outputs": [
    {
     "name": "stdout",
     "output_type": "stream",
     "text": [
      "The z-score is: 1.0\n"
     ]
    }
   ],
   "source": [
    "# Q9. Calculate the z-score for a data point with a value of 75, a population mean of 70, and a population \n",
    "# standard deviation of 5. Interpret the results\n",
    "\n",
    "\n",
    "#z = (x - μ) / σ   (formula for finding z- score)\n",
    "\n",
    "\n",
    "data_point = 75\n",
    "population_mean = 70\n",
    "population_std_dev = 5\n",
    "\n",
    "z = (data_point - population_mean) / population_std_dev\n",
    "print(\"The z-score is:\", z)\n"
   ]
  },
  {
   "cell_type": "code",
   "execution_count": 6,
   "id": "328777c4-cb5d-4944-b07f-5313cbbc9c77",
   "metadata": {},
   "outputs": [
    {
     "name": "stdout",
     "output_type": "stream",
     "text": [
      "The weight loss drug is significantly effective.\n"
     ]
    },
    {
     "name": "stderr",
     "output_type": "stream",
     "text": [
      "/tmp/ipykernel_132/2827610252.py:22: RuntimeWarning: Precision loss occurred in moment calculation due to catastrophic cancellation. This occurs when the data are nearly identical. Results may be unreliable.\n",
      "  t_statistic, p_value = stats.ttest_1samp([sample_mean] * sample_size, popmean=0)\n"
     ]
    }
   ],
   "source": [
    "# Q10. In a study of the effectiveness of a new weight loss drug, a sample of 50 participants lost an average \n",
    "# of 6 pounds with a standard deviation of 2.5 pounds. Conduct a hypothesis test to determine if the drug is \n",
    "# significantly effective at a 95% confidence level using a t-test\n",
    "\n",
    "\n",
    "# To conduct a hypothesis test to determine if the weight loss drug is significantly effective at a 95% confidence level using a t-test, we need to set up the null and alternative hypotheses and perform the t-test.\n",
    "\n",
    "# Null Hypothesis (H0): The weight loss drug is not significantly effective (mean weight loss = 0).\n",
    "# Alternative Hypothesis (Ha): The weight loss drug is significantly effective (mean weight loss ≠ 0).\n",
    "\n",
    "# Assuming the sample is representative of the population, we can use a one-sample t-test to compare the sample mean to the hypothesized population mean of 0.\n",
    "\n",
    "# In Python, you can perform the t-test using the `scipy.stats` module. Here's an example of how to conduct the t-test:\n",
    "\n",
    "import scipy.stats as stats\n",
    "\n",
    "sample_mean = 6  # Average weight loss in pounds\n",
    "sample_size = 50  # Number of participants\n",
    "sample_std_dev = 2.5  # Standard deviation of weight loss\n",
    "\n",
    "# Calculate the t-statistic and p-value\n",
    "t_statistic, p_value = stats.ttest_1samp([sample_mean] * sample_size, popmean=0)\n",
    "\n",
    "# Determine if the null hypothesis is rejected based on the p-value\n",
    "alpha = 0.05  # Significance level\n",
    "if p_value < alpha:\n",
    "    print(\"The weight loss drug is significantly effective.\")\n",
    "else:\n",
    "    print(\"The weight loss drug is not significantly effective.\")\n",
    "\n",
    "\n",
    "\n",
    "\n",
    "# When you run this script, it will output whether the weight loss drug is significantly effective or not based on the calculated p-value.\n",
    "\n",
    "# Note: In this example, we assume that the sample mean follows a t-distribution due to the small sample size (n < 30). If the sample size is larger, you may use a z-test instead."
   ]
  },
  {
   "cell_type": "code",
   "execution_count": 7,
   "id": "c408a5cc-93b7-4516-a069-4fb035fd92a9",
   "metadata": {},
   "outputs": [
    {
     "name": "stdout",
     "output_type": "stream",
     "text": [
      "The 95% confidence interval for the true proportion is: (0.6081925393809212, 0.6918074606190788)\n"
     ]
    }
   ],
   "source": [
    "# # Q11. In a survey of 500 people, 65% reported being satisfied with their current job. Calculate the 95% \n",
    "# # confidence interval for the true proportion of people who are satisfied with their job.\n",
    "\n",
    "# To calculate the 95% confidence interval for the true proportion of people who are satisfied with their job, we can use the formula for a confidence interval for a proportion.\n",
    "\n",
    "# The formula is given by:\n",
    "\n",
    "# CI = p̂ ± Z * sqrt((p̂ * (1 - p̂)) / n)\n",
    "\n",
    "# Where:\n",
    "\n",
    "# CI is the confidence interval\n",
    "# p̂ is the sample proportion\n",
    "# Z is the z-score corresponding to the desired confidence level (for a 95% confidence level, Z ≈ 1.96)\n",
    "# n is the sample size\n",
    "\n",
    "import math\n",
    "\n",
    "sample_proportion = 0.65\n",
    "sample_size = 500\n",
    "confidence_level = 0.95\n",
    "\n",
    "z = stats.norm.ppf((1 + confidence_level) / 2)  # Calculate the z-score\n",
    "\n",
    "margin_of_error = z * math.sqrt((sample_proportion * (1 - sample_proportion)) / sample_size)\n",
    "confidence_interval = (sample_proportion - margin_of_error, sample_proportion + margin_of_error)\n",
    "\n",
    "print(\"The 95% confidence interval for the true proportion is:\", confidence_interval)\n"
   ]
  },
  {
   "cell_type": "code",
   "execution_count": 8,
   "id": "e9074891-d50b-47e7-8021-bb848a6f0ca2",
   "metadata": {},
   "outputs": [
    {
     "name": "stdout",
     "output_type": "stream",
     "text": [
      "There is a significant difference in student performance between the two teaching methods.\n"
     ]
    }
   ],
   "source": [
    "# Q12. A researcher is testing the effectiveness of two different teaching methods on student performance. \n",
    "# Sample A has a mean score of 85 with a standard deviation of 6, while sample B has a mean score of 82 \n",
    "# with a standard deviation of 5. Conduct a hypothesis test to determine if the two teaching methods have a \n",
    "# significant difference in student performance using a t-test with a significance level of 0.01.\n",
    "\n",
    "\n",
    "# To conduct a hypothesis test to determine if there is a significant difference in student performance between the two teaching methods, we can use a two-sample t-test. The null and alternative hypotheses for this test are as follows:\n",
    "\n",
    "# Null Hypothesis (H0): There is no significant difference in student performance between the two teaching methods. (μA - μB = 0)\n",
    "# Alternative Hypothesis (Ha): There is a significant difference in student performance between the two teaching methods. (μA - μB ≠ 0)\n",
    "\n",
    "# Here's an example of how to perform the two-sample t-test in Python, assuming independent samples and equal variances:\n",
    "\n",
    "import scipy.stats as stats\n",
    "\n",
    "sample_A_mean = 85\n",
    "sample_A_std_dev = 6\n",
    "sample_A_size = 100\n",
    "\n",
    "sample_B_mean = 82\n",
    "sample_B_std_dev = 5\n",
    "sample_B_size = 120\n",
    "\n",
    "significance_level = 0.01\n",
    "\n",
    "# Perform the two-sample t-test\n",
    "t_statistic, p_value = stats.ttest_ind_from_stats(\n",
    "    mean1=sample_A_mean,\n",
    "    std1=sample_A_std_dev,\n",
    "    nobs1=sample_A_size,\n",
    "    mean2=sample_B_mean,\n",
    "    std2=sample_B_std_dev,\n",
    "    nobs2=sample_B_size,\n",
    "    equal_var=True  # Assuming equal variances\n",
    ")\n",
    "\n",
    "# Determine if the null hypothesis is rejected based on the p-value\n",
    "if p_value < significance_level:\n",
    "    print(\"There is a significant difference in student performance between the two teaching methods.\")\n",
    "else:\n",
    "    print(\"There is no significant difference in student performance between the two teaching methods.\")\n",
    "\n",
    "\n",
    "\n",
    "# When you run this script, it will output whether there is a significant difference in student performance between the two teaching methods based on the \n",
    "# calculated p-value and the chosen significance level.\n",
    "\n",
    "# Note: In this example, we assume equal variances between the two samples. If the assumption of equal variances is violated, \n",
    "# you can set equal_var=False in the ttest_ind_from_stats() function to perform a Welch's t-test instead."
   ]
  },
  {
   "cell_type": "code",
   "execution_count": 9,
   "id": "c109e443-7723-48d5-963d-22c560ad15a6",
   "metadata": {},
   "outputs": [
    {
     "name": "stdout",
     "output_type": "stream",
     "text": [
      "The 90% confidence interval for the true population mean is: (63.13889495191701, 66.86110504808299)\n"
     ]
    }
   ],
   "source": [
    "# Q13. A population has a mean of 60 and a standard deviation of 8. A sample of 50 observations has a mean \n",
    "# of 65. Calculate the 90% confidence interval for the true population mean\n",
    "\n",
    "import math\n",
    "\n",
    "sample_mean = 65\n",
    "population_mean = 60\n",
    "population_std_dev = 8\n",
    "sample_size = 50\n",
    "confidence_level = 0.90\n",
    "\n",
    "z = 1.645  # Z-score for a 90% confidence level\n",
    "\n",
    "margin_of_error = z * (population_std_dev / math.sqrt(sample_size))\n",
    "confidence_interval = (sample_mean - margin_of_error, sample_mean + margin_of_error)\n",
    "\n",
    "print(\"The 90% confidence interval for the true population mean is:\", confidence_interval)\n"
   ]
  },
  {
   "cell_type": "code",
   "execution_count": 10,
   "id": "bcf827b5-b0f8-40ee-bc98-48db8bb4d502",
   "metadata": {},
   "outputs": [
    {
     "ename": "TypeError",
     "evalue": "ttest_1samp() got an unexpected keyword argument 'ddof'",
     "output_type": "error",
     "traceback": [
      "\u001b[0;31m---------------------------------------------------------------------------\u001b[0m",
      "\u001b[0;31mTypeError\u001b[0m                                 Traceback (most recent call last)",
      "Cell \u001b[0;32mIn[10], line 14\u001b[0m\n\u001b[1;32m     11\u001b[0m confidence_level \u001b[38;5;241m=\u001b[39m \u001b[38;5;241m0.90\u001b[39m\n\u001b[1;32m     13\u001b[0m \u001b[38;5;66;03m# Perform the one-sample t-test\u001b[39;00m\n\u001b[0;32m---> 14\u001b[0m t_statistic, p_value \u001b[38;5;241m=\u001b[39m \u001b[43mstats\u001b[49m\u001b[38;5;241;43m.\u001b[39;49m\u001b[43mttest_1samp\u001b[49m\u001b[43m(\u001b[49m\n\u001b[1;32m     15\u001b[0m \u001b[43m    \u001b[49m\u001b[43ma\u001b[49m\u001b[38;5;241;43m=\u001b[39;49m\u001b[43msample_mean\u001b[49m\u001b[43m,\u001b[49m\n\u001b[1;32m     16\u001b[0m \u001b[43m    \u001b[49m\u001b[43mpopmean\u001b[49m\u001b[38;5;241;43m=\u001b[39;49m\u001b[43mpopulation_mean\u001b[49m\u001b[43m,\u001b[49m\n\u001b[1;32m     17\u001b[0m \u001b[43m    \u001b[49m\u001b[43mddof\u001b[49m\u001b[38;5;241;43m=\u001b[39;49m\u001b[43msample_size\u001b[49m\u001b[43m \u001b[49m\u001b[38;5;241;43m-\u001b[39;49m\u001b[43m \u001b[49m\u001b[38;5;241;43m1\u001b[39;49m\n\u001b[1;32m     18\u001b[0m \u001b[43m)\u001b[49m\n\u001b[1;32m     20\u001b[0m \u001b[38;5;66;03m# Determine if the null hypothesis is rejected based on the p-value\u001b[39;00m\n\u001b[1;32m     21\u001b[0m \u001b[38;5;28;01mif\u001b[39;00m p_value \u001b[38;5;241m<\u001b[39m (\u001b[38;5;241m1\u001b[39m \u001b[38;5;241m-\u001b[39m confidence_level):\n",
      "\u001b[0;31mTypeError\u001b[0m: ttest_1samp() got an unexpected keyword argument 'ddof'"
     ]
    }
   ],
   "source": [
    "# Q14. In a study of the effects of caffeine on reaction time, a sample of 30 participants had an average \n",
    "# reaction time of 0.25 seconds with a standard deviation of 0.05 seconds. Conduct a hypothesis test to \n",
    "# determine if the caffeine has a significant effect on reaction time at a 90% confidence level using a t test.\n",
    "\n",
    "import scipy.stats as stats\n",
    "\n",
    "sample_mean = 0.25\n",
    "sample_std_dev = 0.05\n",
    "sample_size = 30\n",
    "population_mean = 0.20  # Hypothetical mean under the null hypothesis\n",
    "confidence_level = 0.90\n",
    "\n",
    "# Perform the one-sample t-test\n",
    "t_statistic, p_value = stats.ttest_1samp(\n",
    "    a=sample_mean,\n",
    "    popmean=population_mean,\n",
    "    ddof=sample_size - 1\n",
    ")\n",
    "\n",
    "# Determine if the null hypothesis is rejected based on the p-value\n",
    "if p_value < (1 - confidence_level):\n",
    "    print(\"Caffeine has a significant effect on reaction time.\")\n",
    "else:\n",
    "    print(\"Caffeine does not have a significant effect on reaction time.\")\n"
   ]
  },
  {
   "cell_type": "code",
   "execution_count": null,
   "id": "29b5b980-4016-4a66-bc86-a84bfcce6ab9",
   "metadata": {},
   "outputs": [],
   "source": []
  }
 ],
 "metadata": {
  "kernelspec": {
   "display_name": "Python 3 (ipykernel)",
   "language": "python",
   "name": "python3"
  },
  "language_info": {
   "codemirror_mode": {
    "name": "ipython",
    "version": 3
   },
   "file_extension": ".py",
   "mimetype": "text/x-python",
   "name": "python",
   "nbconvert_exporter": "python",
   "pygments_lexer": "ipython3",
   "version": "3.10.8"
  }
 },
 "nbformat": 4,
 "nbformat_minor": 5
}
